{
 "cells": [
  {
   "cell_type": "markdown",
   "id": "a462fa69",
   "metadata": {},
   "source": [
    "# Programming_Assignment_05"
   ]
  },
  {
   "cell_type": "markdown",
   "id": "d0f95367",
   "metadata": {},
   "source": [
    "1. Write a Python Program to Find LCM?"
   ]
  },
  {
   "cell_type": "code",
   "execution_count": 1,
   "id": "5f1498dc",
   "metadata": {},
   "outputs": [
    {
     "name": "stdout",
     "output_type": "stream",
     "text": [
      "12\n",
      "74\n",
      "The LCM is 444\n"
     ]
    }
   ],
   "source": [
    "def compute_lcm(x,y) :\n",
    "    if x > y :\n",
    "        greater = x\n",
    "    else :\n",
    "        greater = y\n",
    "    while(True):\n",
    "        if((greater % x == 0) and (greater %y == 0)):\n",
    "            lcm = greater\n",
    "            break\n",
    "        greater += 1\n",
    "    return lcm\n",
    "\n",
    "n1 = int(input())\n",
    "n2 = int(input())\n",
    "print(\"The LCM is\",compute_lcm(n1,n2))"
   ]
  },
  {
   "cell_type": "markdown",
   "id": "daf639ff",
   "metadata": {},
   "source": [
    "2. Write a Python Program to Find HCF?"
   ]
  },
  {
   "cell_type": "code",
   "execution_count": 3,
   "id": "37845539",
   "metadata": {},
   "outputs": [
    {
     "name": "stdout",
     "output_type": "stream",
     "text": [
      "12\n",
      "24\n",
      "The HCF is 12\n"
     ]
    }
   ],
   "source": [
    "def compute_hcf(x,y) :\n",
    "    if x > y :\n",
    "        smaller = y\n",
    "    else :\n",
    "        smaller = x\n",
    "    for i in range(1,smaller+1):\n",
    "        if((x%i == 0) and (y%i == 0)):\n",
    "            hcf = i\n",
    "    return hcf\n",
    "n1 = int(input())\n",
    "n2 = int(input())\n",
    "print(\"The HCF is\",compute_hcf(n1,n2))"
   ]
  },
  {
   "cell_type": "markdown",
   "id": "681007c3",
   "metadata": {},
   "source": [
    "3. Write a Python Program to Convert Decimal to Binary, Octal and Hexadecimal?"
   ]
  },
  {
   "cell_type": "code",
   "execution_count": 4,
   "id": "7d8adc83",
   "metadata": {},
   "outputs": [
    {
     "name": "stdout",
     "output_type": "stream",
     "text": [
      "12\n",
      "The decimal value of 12 is:\n",
      "0b1100 in binary.\n",
      "0o14 in octal.\n",
      "0xc in hexadecimal.\n"
     ]
    }
   ],
   "source": [
    "dec = int(input())\n",
    "\n",
    "print(\"The decimal value of\", dec, \"is:\")\n",
    "print(bin(dec), \"in binary.\")\n",
    "print(oct(dec), \"in octal.\")\n",
    "print(hex(dec), \"in hexadecimal.\")"
   ]
  },
  {
   "cell_type": "markdown",
   "id": "6e5eba49",
   "metadata": {},
   "source": [
    "4. Write a Python Program To Find ASCII value of a character?"
   ]
  },
  {
   "cell_type": "code",
   "execution_count": 7,
   "id": "0b4ff04f",
   "metadata": {},
   "outputs": [
    {
     "name": "stdout",
     "output_type": "stream",
     "text": [
      "s\n",
      "The ASCII value of 's' is 115\n"
     ]
    }
   ],
   "source": [
    "char = input()\n",
    "print(\"The ASCII value of '\" + char + \"' is\", ord(char))"
   ]
  },
  {
   "cell_type": "markdown",
   "id": "d4d931a7",
   "metadata": {},
   "source": [
    "Write a Python Program to Make a Simple Calculator with 4 basic mathematical operations?"
   ]
  },
  {
   "cell_type": "code",
   "execution_count": null,
   "id": "b724ab0a",
   "metadata": {},
   "outputs": [
    {
     "name": "stdout",
     "output_type": "stream",
     "text": [
      "Select operation\n",
      "1.ADDITION\n",
      "2.SUBTRACTION\n",
      "3.MULTIPLICATION\n",
      "4.DIVISION\n",
      "3\n",
      "Enter first number:76\n",
      "Enter second number:97\n",
      "76.0 X 97.0 = 7372.0\n"
     ]
    }
   ],
   "source": [
    "def add(x,y):\n",
    "    return x+y\n",
    "def sub(x,y):\n",
    "    return x-y\n",
    "def mul(x,y):\n",
    "    return x*y\n",
    "def div(x,y):\n",
    "    return x/y\n",
    "\n",
    "print(\"Select operation\")\n",
    "print(\"1.ADDITION\")\n",
    "print(\"2.SUBTRACTION\")\n",
    "print(\"3.MULTIPLICATION\")\n",
    "print(\"4.DIVISION\")\n",
    "\n",
    "while True : \n",
    "    choice = input()\n",
    "    if choice in ('1','2','3','4'):\n",
    "        n1 = float(input(\"Enter first number:\"))\n",
    "        n2 = float(input(\"Enter second number:\"))\n",
    "        if choice == '1' :\n",
    "                print (n1,\"+\",n2,\"=\",add(n1,n2))\n",
    "        elif choice == '2':\n",
    "                print(n1,\"-\",n2,\"=\",sub(n1,n2))\n",
    "        elif choice == '3':\n",
    "                print(n1,\"X\",n2,\"=\",mul(n1,n2))\n",
    "        elif choice == '4' :\n",
    "                print(n1,\"/\",n2,\"=\",div(n1,n2))\n",
    "        else :\n",
    "                print(\"Invalid input\")"
   ]
  }
 ],
 "metadata": {
  "kernelspec": {
   "display_name": "Python 3 (ipykernel)",
   "language": "python",
   "name": "python3"
  },
  "language_info": {
   "codemirror_mode": {
    "name": "ipython",
    "version": 3
   },
   "file_extension": ".py",
   "mimetype": "text/x-python",
   "name": "python",
   "nbconvert_exporter": "python",
   "pygments_lexer": "ipython3",
   "version": "3.10.9"
  }
 },
 "nbformat": 4,
 "nbformat_minor": 5
}
