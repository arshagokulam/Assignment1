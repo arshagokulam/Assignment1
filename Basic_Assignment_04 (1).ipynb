{
 "cells": [
  {
   "cell_type": "code",
   "execution_count": null,
   "id": "e3ca41b5",
   "metadata": {},
   "outputs": [],
   "source": [
    "1. What exactly is []?\n",
    "    Ans : [] is a emplty list, like a =[]"
   ]
  },
  {
   "cell_type": "code",
   "execution_count": null,
   "id": "f6d0bf22",
   "metadata": {},
   "outputs": [],
   "source": [
    "2. In a list of values stored in a variable called spam, how would you assign the value 'hello' as the\n",
    "third value? (Assume [2, 4, 6, 8, 10] are in spam.)\n",
    "    Ans : \n",
    "        # solution by changing the value in index 3\n",
    "        spam = [2, 4, 6, 8, 10]\n",
    "        spam[2] = 'hello'\n",
    "        spam\n",
    "    o/p : [2, 4, 'hello', 8, 10]\n",
    "        # solution by inserting value in 3rd index\n",
    "        spam = [2, 4, 6, 8, 10]\n",
    "        spam.insert(2,'hello')\n",
    "        spam\n",
    "    o/p : [2, 4, 'hello', 6, 8, 10]"
   ]
  },
  {
   "cell_type": "code",
   "execution_count": null,
   "id": "0b604505",
   "metadata": {},
   "outputs": [],
   "source": [
    "Let us pretend the spam includes the list ['a','b','c','d'] for the next three queries."
   ]
  },
  {
   "cell_type": "code",
   "execution_count": null,
   "id": "43d1f74b",
   "metadata": {},
   "outputs": [],
   "source": [
    "3. What is the value of spam[int(int('3' * 2) / 11)]?\n",
    "    Ans : spam = ['a', 'b','c','d']\n",
    "          spam[int(int('3' * 2) / 11)] \n",
    "            # '3' * 2 is the string '33', which is passed to int() before being divided by 11\n",
    "            # spam[int(33/11)] = spam[3]\n",
    "          'd'"
   ]
  },
  {
   "cell_type": "code",
   "execution_count": null,
   "id": "a17c0c96",
   "metadata": {},
   "outputs": [],
   "source": [
    "4. What is the value of spam[-1]?\n",
    "    Ans : spam = ['a', 'b','c','d']\n",
    "          spam[-1] # negative index # d\n",
    "          'd'"
   ]
  },
  {
   "cell_type": "code",
   "execution_count": null,
   "id": "f1b5915c",
   "metadata": {},
   "outputs": [],
   "source": [
    "5. What is the value of spam[:2]?\n",
    "    Ans : spam[:2]\n",
    "          ['a', 'b']"
   ]
  },
  {
   "cell_type": "code",
   "execution_count": null,
   "id": "8cb68fba",
   "metadata": {},
   "outputs": [],
   "source": [
    "Let us pretend bacon has the list [3.14, 'cat',11,'cat', True] for the next three questions."
   ]
  },
  {
   "cell_type": "code",
   "execution_count": null,
   "id": "2c386d74",
   "metadata": {},
   "outputs": [],
   "source": [
    "6. What is the value of bacon.index('cat')?\n",
    "    Ans : bacon = [3.14, 'cat', 11, 'cat', True]\n",
    "          bacon.index('cat')\n",
    "          1"
   ]
  },
  {
   "cell_type": "code",
   "execution_count": null,
   "id": "ba85015e",
   "metadata": {},
   "outputs": [],
   "source": [
    "7. How does bacon.append(99) change the look of the list value in bacon?\n",
    "    Ans : bacon = [3.14, 'cat', 11, 'cat', True]\n",
    "          bacon.append(99)\n",
    "          bacon\n",
    "          [3.14, 'cat', 11, 'cat', True, 99]"
   ]
  },
  {
   "cell_type": "code",
   "execution_count": null,
   "id": "8bad1f56",
   "metadata": {},
   "outputs": [],
   "source": [
    "8. How does bacon.remove('cat') change the look of the list in bacon?\n",
    "    Ans : bacon = [3.14, 'cat', 11, 'cat', True]\n",
    "          bacon.remove('cat')\n",
    "          bacon\n",
    "          [3.14, 11, 'cat', True]                         "
   ]
  },
  {
   "cell_type": "code",
   "execution_count": null,
   "id": "5c390919",
   "metadata": {},
   "outputs": [],
   "source": [
    "9. What are the list concatenation and list replication operators?\n",
    "    Ans : * -> is list replication operatotor\n",
    "          + -> is list cancatination operator\n",
    "          l1 = [1,3]\n",
    "          l2 = [7,9]\n",
    "          # list concatination\n",
    "          l1+l2\n",
    "          [1, 3, 7, 9]\n",
    "          l1 = [1,3]\n",
    "          # list replication\n",
    "          l1*3\n",
    "          [1, 3, 1, 3, 1, 3]"
   ]
  },
  {
   "cell_type": "code",
   "execution_count": null,
   "id": "42cecce2",
   "metadata": {},
   "outputs": [],
   "source": [
    "10. What is difference between the list methods append() and insert()?\n",
    "Ans : append() ->Appends object to the end of the list\n",
    "      insert() -> Insert object before index\n",
    "      bacon = [3.14, 'cat', 11, 'cat', True]\n",
    "      bacon.append(99) # append adds the item at the end of the list\n",
    "      bacon\n",
    "      [3.14, 'cat', 11, 'cat', True, 99]\n",
    "      # solution by inserting value in 3rd index\n",
    "      spam = [2, 4, 6, 8, 10]\n",
    "      spam.insert(2,'hello')\n",
    "      spam\n",
    "      [2, 4, 'hello', 6, 8, 10]"
   ]
  },
  {
   "cell_type": "code",
   "execution_count": null,
   "id": "a6c60e5c",
   "metadata": {},
   "outputs": [],
   "source": [
    "11. What are the two methods for removing items from a list?\n",
    "    Ans : remove(item) - removeds first occurence of a item\n",
    "          pop() - Remove and returns item at index (default last).\n",
    "        \n",
    "          bacon = [3.14, 'cat', 11, 'cat', True]\n",
    "          bacon.remove('cat')\n",
    "          bacon\n",
    "          [3.14, 11, 'cat', True]\n",
    "          bacon = [3.14, 'cat', 11, 'cat', True]\n",
    "          bacon.pop()\n",
    "          bacon\n",
    "          [3.14, 'cat', 11, 'cat']"
   ]
  },
  {
   "cell_type": "code",
   "execution_count": null,
   "id": "dee9a5da",
   "metadata": {},
   "outputs": [],
   "source": [
    "12. Describe how list values and string values are identical.\n",
    "    Ans : 1. Both lists and strings can be passed to len()\n",
    "          2. Have indexes and slices\n",
    "          3. Can be used in for loops\n",
    "          4. Can be concatenated or replicated\n",
    "          5. Can be used with the in and not in operators"
   ]
  },
  {
   "cell_type": "code",
   "execution_count": null,
   "id": "90fb0d5a",
   "metadata": {},
   "outputs": [],
   "source": [
    "13. What is the difference between tuples and lists?\n",
    "Ans : Lists :\n",
    "      are mutable - they can have values added, removed, or changed. \n",
    "      lists use the square brackets, [ and ]\n",
    "      Tuples :\n",
    "      are immutable; they cannot be changed at all. \n",
    "      Tuples are written using parentheses, ( and )"
   ]
  },
  {
   "cell_type": "code",
   "execution_count": null,
   "id": "c3b561f5",
   "metadata": {},
   "outputs": [],
   "source": [
    "14. How do you type a tuple value that only contains the integer 42?\n",
    "Ans : tup = (42,)\n",
    "      tup\n",
    "      (42,)"
   ]
  },
  {
   "cell_type": "code",
   "execution_count": null,
   "id": "3fe31cc4",
   "metadata": {},
   "outputs": [],
   "source": [
    "15. How do you get a list values tuple form? How do you get a tuple values list form?\n",
    "Ans : By using tuple() and list() functions\n",
    "      l1 = [2,3]\n",
    "      l = tuple(l1)\n",
    "      l\n",
    "      (2, 3)\n",
    "    \n",
    "      t1 = (3,4)\n",
    "      t = list(t1)\n",
    "      t\n",
    "      [3, 4]"
   ]
  },
  {
   "cell_type": "code",
   "execution_count": null,
   "id": "279bbeef",
   "metadata": {},
   "outputs": [],
   "source": [
    "16. Variables that \"contain\" list values are not necessarily lists themselves. Instead, what do they\n",
    "contain?\n",
    "Ans : They contain references to list values"
   ]
  },
  {
   "cell_type": "code",
   "execution_count": null,
   "id": "b24bfeac",
   "metadata": {},
   "outputs": [],
   "source": [
    "17. How do you distinguish between copy.copy() and copy.deepcopy()?\n",
    "Ans : The copy.copy() function will do a shallow copy of a list, \n",
    "      The copy.deepcopy() function will do a deep copy of a list. only copy.deepcopy() will duplicate any lists inside the list\n",
    "      import copy\n",
    "      l = [1,2,3,[4,5,6]]\n",
    "      l1 = copy.copy(l)\n",
    "      l2 = copy.deepcopy(l)\n",
    "      print(l1,l2)\n",
    "      [1, 2, 3, [4, 5, 6]] [1, 2, 3, [4, 5, 6]]"
   ]
  },
  {
   "cell_type": "code",
   "execution_count": 4,
   "id": "807a4b48",
   "metadata": {},
   "outputs": [
    {
     "name": "stdout",
     "output_type": "stream",
     "text": [
      "[1, 2, 3, [4, 5, 6]]\n",
      "[1, 2, 3, [4, 5, 6]]\n"
     ]
    }
   ],
   "source": [
    "import copy\n",
    "l = [1,2,3,[4,5,6]]\n",
    "l1 = copy.copy(l)\n",
    "l2 = copy.deepcopy(l)\n",
    "print(l1)\n",
    "print(l2)"
   ]
  }
 ],
 "metadata": {
  "kernelspec": {
   "display_name": "Python 3 (ipykernel)",
   "language": "python",
   "name": "python3"
  },
  "language_info": {
   "codemirror_mode": {
    "name": "ipython",
    "version": 3
   },
   "file_extension": ".py",
   "mimetype": "text/x-python",
   "name": "python",
   "nbconvert_exporter": "python",
   "pygments_lexer": "ipython3",
   "version": "3.10.9"
  }
 },
 "nbformat": 4,
 "nbformat_minor": 5
}
