{
 "cells": [
  {
   "cell_type": "markdown",
   "id": "804ae576",
   "metadata": {},
   "source": [
    "# Basic_Assignment_03"
   ]
  },
  {
   "cell_type": "code",
   "execution_count": null,
   "id": "1ac5fa8a",
   "metadata": {},
   "outputs": [],
   "source": [
    "1. Why are functions advantageous to have in your programs?\n",
    "    Ans : we can avoid rewriting the same logic or code again and again in a program"
   ]
  },
  {
   "cell_type": "code",
   "execution_count": null,
   "id": "124cbe6c",
   "metadata": {},
   "outputs": [],
   "source": [
    "2.When does the code in a function run: when it's specified or when it's called?\n",
    "    Ans : we can avoid rewriting the same logic or code again and again in a program"
   ]
  },
  {
   "cell_type": "code",
   "execution_count": null,
   "id": "9c121f02",
   "metadata": {},
   "outputs": [],
   "source": [
    "3. What statement creates a function?\n",
    "    Ans : The def statement creates or defines a function.\n",
    "    Eg : def my_func():\n",
    "            pass"
   ]
  },
  {
   "cell_type": "code",
   "execution_count": null,
   "id": "e14baa45",
   "metadata": {},
   "outputs": [],
   "source": [
    "4. What is the difference between a function and a function call?\n",
    "    Ans : A function is set of statements or a block of code inside a def clause.\n",
    "          A function call is an expression that passes control and arguments (if any) to a function."
   ]
  },
  {
   "cell_type": "code",
   "execution_count": null,
   "id": "af47db23",
   "metadata": {},
   "outputs": [],
   "source": [
    "5. How many global scopes are there in a Python program? How many local scopes?\n",
    "    Ans : There is only one global Python scope per program execution. \n",
    "          This scope remains in existence until the program terminates, \n",
    "        and a local scope is created whenever a function is called."
   ]
  },
  {
   "cell_type": "code",
   "execution_count": null,
   "id": "71c43b71",
   "metadata": {},
   "outputs": [],
   "source": [
    "6. What happens to variables in a local scope when the function call returns?\n",
    "    Ans : When a function returns, the local scope is destroyed."
   ]
  },
  {
   "cell_type": "code",
   "execution_count": null,
   "id": "285c281b",
   "metadata": {},
   "outputs": [],
   "source": [
    "7. What is the concept of a return value? Is it possible to have a return value in an expression?\n",
    "    Ans : A return is a value that a function returns to the calling script or function when it completes its task.\n",
    "          Like any value, a return value can be used as part of an expression.\n",
    "          A Python function will always have a return value."
   ]
  },
  {
   "cell_type": "code",
   "execution_count": null,
   "id": "28343961",
   "metadata": {},
   "outputs": [],
   "source": [
    "8. If a function does not have a return statement, what is the return value of a call to that function?\n",
    "    Ans : If the funtion does not have a return statement it will not return anything."
   ]
  },
  {
   "cell_type": "code",
   "execution_count": null,
   "id": "1e8c5239",
   "metadata": {},
   "outputs": [],
   "source": [
    "9. How do you make a function variable refer to the global variable?\n",
    "    Ans : when you create a variable inside a function, that variable is local, and can only be used inside that function.\n",
    "          To create a global variable inside a function, you can use the global keyword."
   ]
  },
  {
   "cell_type": "code",
   "execution_count": null,
   "id": "8e2dabbc",
   "metadata": {},
   "outputs": [],
   "source": [
    "10. What is the data type of None?\n",
    "    Ans : The data type of None is NoneType."
   ]
  },
  {
   "cell_type": "markdown",
   "id": "6225d613",
   "metadata": {},
   "source": [
    "11. What does the sentence import areallyourpetsnamederic do?"
   ]
  },
  {
   "cell_type": "code",
   "execution_count": 8,
   "id": "7022ac97",
   "metadata": {},
   "outputs": [
    {
     "ename": "ModuleNotFoundError",
     "evalue": "No module named 'areallyourpetsnameederic'",
     "output_type": "error",
     "traceback": [
      "\u001b[1;31m---------------------------------------------------------------------------\u001b[0m",
      "\u001b[1;31mModuleNotFoundError\u001b[0m                       Traceback (most recent call last)",
      "Cell \u001b[1;32mIn[8], line 1\u001b[0m\n\u001b[1;32m----> 1\u001b[0m \u001b[38;5;28;01mimport\u001b[39;00m \u001b[38;5;21;01mareallyourpetsnameederic\u001b[39;00m\n",
      "\u001b[1;31mModuleNotFoundError\u001b[0m: No module named 'areallyourpetsnameederic'"
     ]
    }
   ],
   "source": [
    "import areallyourpetsnameederic"
   ]
  },
  {
   "cell_type": "code",
   "execution_count": null,
   "id": "cd22ca7b",
   "metadata": {},
   "outputs": [],
   "source": [
    "    Ans : That import statement imports a module named areallyourpetsnamederic.\n",
    "          and checks if all the pets name are deric or no\n",
    "          (But a module of this name doesnt exists in Python)"
   ]
  },
  {
   "cell_type": "code",
   "execution_count": null,
   "id": "cb05a61e",
   "metadata": {},
   "outputs": [],
   "source": [
    "12. If you had a bacon() feature in a spam module, what would you call it after importing spam?\n",
    "    Ans : import spam\n",
    "          spam.bacon()"
   ]
  },
  {
   "cell_type": "code",
   "execution_count": null,
   "id": "723f6501",
   "metadata": {},
   "outputs": [],
   "source": [
    "13. What can you do to save a programme from crashing if it encounters an error?\n",
    "    Ans : We can use try except clause to save a program from crashing."
   ]
  },
  {
   "cell_type": "code",
   "execution_count": null,
   "id": "900f29c0",
   "metadata": {},
   "outputs": [],
   "source": [
    "14. What is the purpose of the try clause? What is the purpose of the except clause?\n",
    "    Ans : Try and Except clause is used to handle the errors within our code. \n",
    "        The try block is used to check some code for errors i.e the code inside the try block \n",
    "        will execute when there is no error in the program. \n",
    "        Whereas the code inside the except block will execute whenever the program encounters some error in the try block.\n",
    "    Eg. try:\n",
    "            # Code <br>\n",
    "        except:\n",
    "            # Executed if error in the<br>\n",
    "            # try block"
   ]
  }
 ],
 "metadata": {
  "kernelspec": {
   "display_name": "Python 3 (ipykernel)",
   "language": "python",
   "name": "python3"
  },
  "language_info": {
   "codemirror_mode": {
    "name": "ipython",
    "version": 3
   },
   "file_extension": ".py",
   "mimetype": "text/x-python",
   "name": "python",
   "nbconvert_exporter": "python",
   "pygments_lexer": "ipython3",
   "version": "3.10.9"
  }
 },
 "nbformat": 4,
 "nbformat_minor": 5
}
