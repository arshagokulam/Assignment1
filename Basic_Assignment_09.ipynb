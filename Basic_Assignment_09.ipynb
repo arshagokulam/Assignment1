{
 "cells": [
  {
   "cell_type": "markdown",
   "id": "267833b4",
   "metadata": {},
   "source": [
    "# Basic_Assignment_09"
   ]
  },
  {
   "cell_type": "markdown",
   "id": "aa48b604",
   "metadata": {},
   "source": [
    "1. To what does a relative path refer?"
   ]
  },
  {
   "cell_type": "code",
   "execution_count": null,
   "id": "f2f22476",
   "metadata": {},
   "outputs": [],
   "source": [
    "A : A relative path refers to a file or directory path that is \n",
    "    relative to the current working directory of the user or the program."
   ]
  },
  {
   "cell_type": "markdown",
   "id": "e35cb2d3",
   "metadata": {},
   "source": [
    "2. What does an absolute path start with your operating system?"
   ]
  },
  {
   "cell_type": "code",
   "execution_count": null,
   "id": "66fb1534",
   "metadata": {},
   "outputs": [],
   "source": [
    "A : The format of an absolute path depends on the operating system being used.\n",
    "    In general, an absolute path starts with the root directory of the file system, \n",
    "    which is represented by a forward slash (/) in Unix-based systems (such as Linux and macOS) or by a drive letter and colon\n",
    "    (C:\\, D:\\, etc.) in Windows systems."
   ]
  },
  {
   "cell_type": "markdown",
   "id": "484a93a9",
   "metadata": {},
   "source": [
    "3. What do the functions os.getcwd() and os.chdir() do?"
   ]
  },
  {
   "cell_type": "code",
   "execution_count": null,
   "id": "d8e758f2",
   "metadata": {},
   "outputs": [],
   "source": [
    "A : os.getcwd(): This function returns the current working directory of the Python script or program. \n",
    "    The return value is a string that represents the absolute path of the current working directory."
   ]
  },
  {
   "cell_type": "markdown",
   "id": "26b2922b",
   "metadata": {},
   "source": [
    "4. What are the . and .. folders?"
   ]
  },
  {
   "cell_type": "code",
   "execution_count": null,
   "id": "050a3080",
   "metadata": {},
   "outputs": [],
   "source": [
    "A :\n",
    "In a file system, . and .. are special directory names that refer to the current directory & the parent directory, respectively.\n",
    "\n",
    ". (dot): This refers to the current directory that a user or program is currently in. \n",
    "    For example, if the current working directory is /home/user/Documents, then . refers to the Documents directory.\n",
    "\n",
    ".. (dot dot): This refers to the parent directory of the current directory. \n",
    "    For example, if the current working directory is /home/user/Documents, then .. refers to the user directory."
   ]
  },
  {
   "cell_type": "markdown",
   "id": "7aec929e",
   "metadata": {},
   "source": [
    "5. In C:\\bacon\\eggs\\spam.txt, which part is the dir name, and which part is the base name?"
   ]
  },
  {
   "cell_type": "code",
   "execution_count": null,
   "id": "29ed2aec",
   "metadata": {},
   "outputs": [],
   "source": [
    "A : In the file path C:\\bacon\\eggs\\spam.txt, \n",
    "    the directory name is C:\\bacon\\eggs, and the base name (also known as the file name) is spam.txt."
   ]
  },
  {
   "cell_type": "markdown",
   "id": "cc1aee6a",
   "metadata": {},
   "source": [
    "6. What are the three “mode” arguments that can be passed to the open() function?"
   ]
  },
  {
   "cell_type": "code",
   "execution_count": null,
   "id": "316e77b6",
   "metadata": {},
   "outputs": [],
   "source": [
    "A : \n",
    "'r' (read mode): This mode opens a file for reading.\n",
    "    The file pointer is placed at the beginning of the file, and the file is read from start to end. \n",
    "    If the file does not exist, an error is raised.\n",
    "\n",
    "'w' (write mode): This mode opens a file for writing. \n",
    "    If the file exists, its contents are truncated (i.e., deleted) and the file is opened as an empty file. \n",
    "    If the file does not exist, a new file is created.\n",
    "\n",
    "'a' (append mode): This mode opens a file for appending. \n",
    "    If the file exists, the file pointer is placed at the end of the file, so that new data can be written to the end of the file. \n",
    "    If the file does not exist, a new file is created."
   ]
  },
  {
   "cell_type": "markdown",
   "id": "0a06c5bd",
   "metadata": {},
   "source": [
    "7. What happens if an existing file is opened in write mode?"
   ]
  },
  {
   "cell_type": "code",
   "execution_count": null,
   "id": "c10d89b2",
   "metadata": {},
   "outputs": [],
   "source": [
    "A : If an existing file is opened in write mode using the open() function, \n",
    "    the existing contents of the file will be deleted and the file will be opened as an empty file. \n",
    "    This means that any data that was previously stored in the file will be lost."
   ]
  },
  {
   "cell_type": "markdown",
   "id": "3281ca38",
   "metadata": {},
   "source": [
    "8. How do you tell the difference between read() and readlines()?"
   ]
  },
  {
   "cell_type": "code",
   "execution_count": null,
   "id": "1c880220",
   "metadata": {},
   "outputs": [],
   "source": [
    "A : The read() and readlines() methods are both used to read data from a file in Python, but they return different types of data.\n",
    "\n",
    "read() reads the entire contents of a file and returns a string that contains all of the data in the file. \n",
    "If you call read() again on the same file object, it will return an empty string, since the file pointer will be at the EOF.\n",
    "\n",
    "readlines() reads the entire contents of a file and returns a list of strings, where each string in the list represents a \n",
    "line in the file. If you call readlines() again on the same file object, it will return an empty list, \n",
    "since the file pointer will be at the EOF."
   ]
  },
  {
   "cell_type": "markdown",
   "id": "a43c3772",
   "metadata": {},
   "source": [
    "9. What data structure does a shelf value resemble?"
   ]
  },
  {
   "cell_type": "code",
   "execution_count": null,
   "id": "f92b1bbd",
   "metadata": {},
   "outputs": [],
   "source": [
    "A : A shelf value in Python resembles a dictionary data structure."
   ]
  }
 ],
 "metadata": {
  "kernelspec": {
   "display_name": "Python 3 (ipykernel)",
   "language": "python",
   "name": "python3"
  },
  "language_info": {
   "codemirror_mode": {
    "name": "ipython",
    "version": 3
   },
   "file_extension": ".py",
   "mimetype": "text/x-python",
   "name": "python",
   "nbconvert_exporter": "python",
   "pygments_lexer": "ipython3",
   "version": "3.10.9"
  }
 },
 "nbformat": 4,
 "nbformat_minor": 5
}
