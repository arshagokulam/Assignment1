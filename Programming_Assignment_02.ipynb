{
 "cells": [
  {
   "cell_type": "markdown",
   "id": "f4004998",
   "metadata": {},
   "source": [
    "# Programming_Assignment_02"
   ]
  },
  {
   "cell_type": "markdown",
   "id": "e0db063a",
   "metadata": {},
   "source": [
    "1. Write a Python program to convert kilometers to miles?"
   ]
  },
  {
   "cell_type": "code",
   "execution_count": 4,
   "id": "392f407b",
   "metadata": {},
   "outputs": [
    {
     "name": "stdout",
     "output_type": "stream",
     "text": [
      "<class 'float'>3.5\n",
      "2.1747985\n"
     ]
    }
   ],
   "source": [
    "# 1 kilometre = 0.621371 miles\n",
    "km = input(float)\n",
    "m = float(km) * float(0.621371)\n",
    "print (m)"
   ]
  },
  {
   "cell_type": "markdown",
   "id": "2232670f",
   "metadata": {},
   "source": [
    "2. Write a Python program to convert Celsius to Fahrenheit?"
   ]
  },
  {
   "cell_type": "code",
   "execution_count": 6,
   "id": "797aef77",
   "metadata": {},
   "outputs": [
    {
     "name": "stdout",
     "output_type": "stream",
     "text": [
      "<class 'int'>0\n",
      "32.0\n"
     ]
    }
   ],
   "source": [
    "#(a°C × 9/5) + 32 = b°F\n",
    "c = input(int)\n",
    "f = float(c) * 9/5 +32\n",
    "print (f)"
   ]
  },
  {
   "cell_type": "markdown",
   "id": "7c90ee1a",
   "metadata": {},
   "source": [
    "3. Write a Python program to display calendar?"
   ]
  },
  {
   "cell_type": "code",
   "execution_count": 7,
   "id": "d776cfe8",
   "metadata": {},
   "outputs": [
    {
     "name": "stdout",
     "output_type": "stream",
     "text": [
      "    January 2022\n",
      "Mo Tu We Th Fr Sa Su\n",
      "                1  2\n",
      " 3  4  5  6  7  8  9\n",
      "10 11 12 13 14 15 16\n",
      "17 18 19 20 21 22 23\n",
      "24 25 26 27 28 29 30\n",
      "31\n",
      "\n"
     ]
    }
   ],
   "source": [
    "import calendar\n",
    "\n",
    "yy = 2022 \n",
    "mm = 1\n",
    "# display the calendar\n",
    "print(calendar.month(yy, mm))"
   ]
  },
  {
   "cell_type": "markdown",
   "id": "66e053f5",
   "metadata": {},
   "source": [
    "4. Write a Python program to solve quadratic equation?"
   ]
  },
  {
   "cell_type": "code",
   "execution_count": 20,
   "id": "b9be7387",
   "metadata": {},
   "outputs": [
    {
     "name": "stdout",
     "output_type": "stream",
     "text": [
      "<class 'int'>1\n",
      "<class 'int'>5\n",
      "<class 'int'>6\n",
      "The solution are (-5.5+0j) and (-4.5+0j)\n"
     ]
    }
   ],
   "source": [
    "#ax2 + bx + c = 0\n",
    "#(-b ± (b ** 2 - 4 * a * c) ** 0.5) / (2 * a)\n",
    "import cmath\n",
    "a = input(int)\n",
    "b = input(int)\n",
    "c = input(int)\n",
    "d = (int(b)**2) - (4 * int(a)* int(c))\n",
    "sol1 = -int(b)-cmath.sqrt(int(d))/(2*int(a))\n",
    "sol2 = -int(b)+cmath.sqrt(int(d))/(2*int(a))\n",
    "\n",
    "print('The solution are {0} and {1}'.format(sol1,sol2))"
   ]
  },
  {
   "cell_type": "markdown",
   "id": "746728f5",
   "metadata": {},
   "source": [
    "5. Write a Python program to swap two variables without temp variable?"
   ]
  },
  {
   "cell_type": "code",
   "execution_count": 21,
   "id": "dd575ce3",
   "metadata": {},
   "outputs": [
    {
     "name": "stdout",
     "output_type": "stream",
     "text": [
      "Before swapping: \n",
      "Value of x :  5  and y :  7\n",
      "After swapping: \n",
      "Value of x :  7  and y :  5\n"
     ]
    }
   ],
   "source": [
    "x = 5\n",
    "y = 7\n",
    " \n",
    "print (\"Before swapping: \")\n",
    "print(\"Value of x : \", x, \" and y : \", y)\n",
    " \n",
    "# code to swap 'x' and 'y'\n",
    "x, y = y, x\n",
    " \n",
    "print (\"After swapping: \")\n",
    "print(\"Value of x : \", x, \" and y : \", y)"
   ]
  }
 ],
 "metadata": {
  "kernelspec": {
   "display_name": "Python 3 (ipykernel)",
   "language": "python",
   "name": "python3"
  },
  "language_info": {
   "codemirror_mode": {
    "name": "ipython",
    "version": 3
   },
   "file_extension": ".py",
   "mimetype": "text/x-python",
   "name": "python",
   "nbconvert_exporter": "python",
   "pygments_lexer": "ipython3",
   "version": "3.10.9"
  }
 },
 "nbformat": 4,
 "nbformat_minor": 5
}
