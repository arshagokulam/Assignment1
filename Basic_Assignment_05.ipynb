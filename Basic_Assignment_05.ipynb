{
 "cells": [
  {
   "cell_type": "code",
   "execution_count": null,
   "id": "61ff88f4",
   "metadata": {},
   "outputs": [],
   "source": [
    "1. What does an empty dictionary's code look like?\n",
    "    Ans : empty dictionary code look like an empty pair of curly braces {}"
   ]
  },
  {
   "cell_type": "code",
   "execution_count": null,
   "id": "fb8a0d9d",
   "metadata": {},
   "outputs": [],
   "source": [
    "2. What is the value of a dictionary value with the key 'foo' and the value 42?\n",
    "    Ans : {'foo': 42}\n",
    "          42"
   ]
  },
  {
   "cell_type": "code",
   "execution_count": null,
   "id": "c750211c",
   "metadata": {},
   "outputs": [],
   "source": [
    "3. What is the most significant distinction between a dictionary and a list?\n",
    "    Ans : A list refers to a collection of various index value pairs.\n",
    "          A dictionary refers to a hashed structure of various pairs of keys and values."
   ]
  },
  {
   "cell_type": "code",
   "execution_count": null,
   "id": "1a1f58d5",
   "metadata": {},
   "outputs": [],
   "source": [
    "4. What happens if you try to access spam['foo'] if spam is {'bar': 100}?\n",
    "    Ans : You will get a KeyError error."
   ]
  },
  {
   "cell_type": "code",
   "execution_count": null,
   "id": "7e0584b2",
   "metadata": {},
   "outputs": [],
   "source": [
    "5. If a dictionary is stored in spam, what is the difference between the expressions 'cat' in spam and\n",
    "'cat' in spam.keys()?\n",
    "    Ans : There is no difference. The in operator checks whether a value exists as a key in the dictionary. \n",
    "          'cat' in spam checks whether there is a 'cat' key in the dictionary, while 'cat' in spam. \n",
    "          values() checks whether there is a value 'cat' for one of the keys in spam ."
   ]
  },
  {
   "cell_type": "code",
   "execution_count": null,
   "id": "53b6a30a",
   "metadata": {},
   "outputs": [],
   "source": [
    "6. If a dictionary is stored in spam, what is the difference between the expressions 'cat' in spam and\n",
    "'cat' in spam.values()?\n",
    "    Ans : If a dictionary is stored in the variable spam, \n",
    "          cat in spam will check if the string 'cat' exists as a key in the dictionary spam.\n",
    "          On the other hand, \n",
    "          cat in spam.values() will check if the string 'cat' exists as a value in any of the keys in the dictionary spam."
   ]
  },
  {
   "cell_type": "code",
   "execution_count": null,
   "id": "b3666f7c",
   "metadata": {},
   "outputs": [],
   "source": [
    "7. What is a shortcut for the following code?\n",
    "if \"color' not in spam:\n",
    "spam['color'] = 'black'\n",
    "         Ans : You can use the setdefault() method as a shortcut to the following code:\n",
    "               spam.setdefault('color', 'black')"
   ]
  },
  {
   "cell_type": "code",
   "execution_count": null,
   "id": "650a06db",
   "metadata": {},
   "outputs": [],
   "source": [
    "8. How do you \"pretty print\" dictionary values using which module and function?\n",
    "    Ans : To pretty print a dictionary in Python, you can use the pprint module, \n",
    "        which provides the pprint() function. This function prints the dictionary in a more readable format,\n",
    "        with each key-value pair on a separate line and with indentation to represent nested structures.\n",
    "        import pprint\n",
    "        my_dict = {'name': 'chan', 'age': 19, 'occupation': 'developer'}\n",
    "        pprint.pprint(my_dict)\n",
    "        {'age': 19, 'name': 'chan', 'occupation': 'developer'}"
   ]
  }
 ],
 "metadata": {
  "kernelspec": {
   "display_name": "Python 3 (ipykernel)",
   "language": "python",
   "name": "python3"
  },
  "language_info": {
   "codemirror_mode": {
    "name": "ipython",
    "version": 3
   },
   "file_extension": ".py",
   "mimetype": "text/x-python",
   "name": "python",
   "nbconvert_exporter": "python",
   "pygments_lexer": "ipython3",
   "version": "3.9.13"
  }
 },
 "nbformat": 4,
 "nbformat_minor": 5
}
