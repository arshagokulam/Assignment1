{
 "cells": [
  {
   "cell_type": "markdown",
   "id": "e288d62e",
   "metadata": {},
   "source": [
    "# Basic_Assignment_08"
   ]
  },
  {
   "cell_type": "markdown",
   "id": "66cd4eca",
   "metadata": {},
   "source": [
    "1. Is the Python Standard Library included with PyInputPlus?"
   ]
  },
  {
   "cell_type": "code",
   "execution_count": null,
   "id": "519af793",
   "metadata": {},
   "outputs": [],
   "source": [
    "A : No, the Python Standard Library is not included with PyInputPlus. \n",
    "    PyInputPlus is a third-party library that builds on top of the Python Standard Library's input() function \n",
    "    and provides additional features and capabilities. \n",
    "    However, PyInputPlus itself is not a part of the Python Standard Library and needs to be installed separately \n",
    "    using tools such as pip."
   ]
  },
  {
   "cell_type": "markdown",
   "id": "e909a6f4",
   "metadata": {},
   "source": [
    "2. Why is PyInputPlus commonly imported with import pyinputplus as pypi?"
   ]
  },
  {
   "cell_type": "code",
   "execution_count": null,
   "id": "7ea3a930",
   "metadata": {},
   "outputs": [],
   "source": [
    "A : The reason for using the pypi alias is to make it easier to refer to the PyInputPlus module in the code.\n",
    "    This can help make the code more readable, especially when PyInputPlus is used extensively throughout the program."
   ]
  },
  {
   "cell_type": "markdown",
   "id": "cf2c8140",
   "metadata": {},
   "source": [
    "3. How do you distinguish between inputInt() and inputFloat()?"
   ]
  },
  {
   "cell_type": "code",
   "execution_count": null,
   "id": "9ddf7c0e",
   "metadata": {},
   "outputs": [],
   "source": [
    "A : inputInt() only accepts integer values. \n",
    "    If the user enters a non-integer value, PyInputPlus raises a ValidationException.\n",
    "    \n",
    "    inputFloat() accepts both integer and floating-point values. \n",
    "    If the user enters an integer value, it is automatically converted to a float. "
   ]
  },
  {
   "cell_type": "markdown",
   "id": "3aec0d3f",
   "metadata": {},
   "source": [
    "4. Using PyInputPlus, how do you ensure that the user enters a whole number between 0 and 99?"
   ]
  },
  {
   "cell_type": "code",
   "execution_count": null,
   "id": "d026d976",
   "metadata": {},
   "outputs": [],
   "source": [
    "A : import pyinputplus as pypi\n",
    "\n",
    "    number = pypi.inputInt(prompt=\"Enter a whole number between 0 and 99: \",\n",
    "                           min=0,\n",
    "                           max=99,\n",
    "                           limit=3)"
   ]
  },
  {
   "cell_type": "markdown",
   "id": "5acb1300",
   "metadata": {},
   "source": [
    "5. What is transferred to the keyword arguments allowRegexes and blockRegexes?"
   ]
  },
  {
   "cell_type": "code",
   "execution_count": null,
   "id": "9d653a4c",
   "metadata": {},
   "outputs": [],
   "source": [
    "A : The allowRegexes and blockRegexes parameters in PyInputPlus are used to specify regular expressions (regexes) \n",
    "    that are either allowed or blocked as valid input. These parameters take in a list of strings,\n",
    "    where each string is a regex pattern.\n",
    "\n",
    "    The allowRegexes parameter allows the specified regex patterns as valid input, \n",
    "    while the blockRegexes parameter blocks them as invalid input. \n",
    "    When a user enters input, PyInputPlus checks whether it matches any of the patterns in the allowRegexes list. \n",
    "    If it does, the input is accepted. \n",
    "    If it does not match any of the patterns in allowRegexes, \n",
    "    PyInputPlus checks if it matches any of the patterns in blockRegexes. \n",
    "    If it matches any of the patterns in blockRegexes, the input is rejected."
   ]
  },
  {
   "cell_type": "markdown",
   "id": "62e4508e",
   "metadata": {},
   "source": [
    "6. If a blank input is entered three times, what does inputStr(limit=3) do?"
   ]
  },
  {
   "cell_type": "code",
   "execution_count": null,
   "id": "405c69e6",
   "metadata": {},
   "outputs": [],
   "source": [
    "A : If a blank input is entered three times when using inputStr(limit=3), PyInputPlus raises a TimeoutException."
   ]
  },
  {
   "cell_type": "markdown",
   "id": "3caf5899",
   "metadata": {},
   "source": [
    "7. If blank input is entered three times, what does inputStr(limit=3, default=&#39;hello&#39;) do?"
   ]
  },
  {
   "cell_type": "code",
   "execution_count": null,
   "id": "00e206da",
   "metadata": {},
   "outputs": [],
   "source": [
    "A : If blank input is entered three times when using inputStr(limit=3, default='hello'),\n",
    "    PyInputPlus returns the default value of 'hello'."
   ]
  }
 ],
 "metadata": {
  "kernelspec": {
   "display_name": "Python 3 (ipykernel)",
   "language": "python",
   "name": "python3"
  },
  "language_info": {
   "codemirror_mode": {
    "name": "ipython",
    "version": 3
   },
   "file_extension": ".py",
   "mimetype": "text/x-python",
   "name": "python",
   "nbconvert_exporter": "python",
   "pygments_lexer": "ipython3",
   "version": "3.10.9"
  }
 },
 "nbformat": 4,
 "nbformat_minor": 5
}
